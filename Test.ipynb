{
 "cells": [
  {
   "cell_type": "code",
   "execution_count": 26,
   "id": "encouraging-organ",
   "metadata": {},
   "outputs": [
    {
     "data": {
      "text/plain": [
       "20×20 Matrix{Float64}:\n",
       " 16.7843     1.87733    0.690689   …  -7.20507    2.30132    -3.29085\n",
       "  1.87733   15.6038    -0.219537      -0.69423    0.867174   -0.672935\n",
       "  0.690689  -0.219537  19.3513         2.25394    1.85336     6.07272\n",
       "  6.90228   -5.18522   -1.56729        3.72867    8.32614    -1.83043\n",
       "  0.175459  -3.18757   -2.24976       -4.34116   -0.0783673  -5.10456\n",
       " -6.10006   -8.63278    0.415991   …   3.11403   -4.54786     3.06835\n",
       "  4.92864   -6.67615    3.03655       -9.30456    3.03226     9.08246\n",
       " -5.02016    4.68675    1.82988       -0.207606  -6.53147     5.85031\n",
       "  4.73656   -2.38624   -0.717467      -0.731552  -1.24443    -9.18376\n",
       " -3.85868    5.53409    0.0777161      1.44777   -0.818781    3.9563\n",
       "  1.32964   -2.52038    5.70827    …  -3.74276   -2.27435     0.876296\n",
       " -0.906331   0.886394   7.20691        1.72298   -0.917442   -2.60396\n",
       "  5.45196   -5.51139    3.06139       -2.31744   -3.34506    -0.275931\n",
       "  2.04045    0.129989   4.3577        -6.10962    0.404651    7.88916\n",
       " -4.37899   -7.66139   -0.218153       4.99149    6.26852     4.75487\n",
       " -0.354733   0.239013   3.68014    …   6.33956    0.760543    6.00469\n",
       " -5.62943   -2.59905    2.29121       -4.94724   -4.34077     5.05344\n",
       " -7.20507   -0.69423    2.25394       19.9498    -1.29476    -4.65183\n",
       "  2.30132    0.867174   1.85336       -1.29476   17.5804      3.97186\n",
       " -3.29085   -0.672935   6.07272       -4.65183    3.97186    26.311"
      ]
     },
     "execution_count": 26,
     "metadata": {},
     "output_type": "execute_result"
    }
   ],
   "source": [
    "# Copyright (c) 2021 Leonardo Banchi <leonardo.banchi@unifi.it> \n",
    "# \n",
    "# Permission is hereby granted, free of charge, to any person obtaining a copy\n",
    "# of this software and associated documentation files (the \"Software\"), to deal\n",
    "# in the Software without restriction, including without limitation the rights\n",
    "# to use, copy, modify, merge, publish, distribute, sublicense, and/or sell\n",
    "# copies of the Software, and to permit persons to whom the Software is\n",
    "# furnished to do so, subject to the following conditions:\n",
    "# \n",
    "# The above copyright notice and this permission notice shall be included in all\n",
    "# copies or substantial portions of the Software.\n",
    "# \n",
    "# THE SOFTWARE IS PROVIDED \"AS IS\", WITHOUT WARRANTY OF ANY KIND, EXPRESS OR\n",
    "# IMPLIED, INCLUDING BUT NOT LIMITED TO THE WARRANTIES OF MERCHANTABILITY,\n",
    "# FITNESS FOR A PARTICULAR PURPOSE AND NONINFRINGEMENT. IN NO EVENT SHALL THE\n",
    "# AUTHORS OR COPYRIGHT HOLDERS BE LIABLE FOR ANY CLAIM, DAMAGES OR OTHER\n",
    "# LIABILITY, WHETHER IN AN ACTION OF CONTRACT, TORT OR OTHERWISE, ARISING FROM,\n",
    "# OUT OF OR IN CONNECTION WITH THE SOFTWARE OR THE USE OR OTHER DEALINGS IN THE\n",
    "# SOFTWARE.\n",
    "\n",
    "\n",
    "include(\"symplectic.jl\")\n",
    "\n",
    "modes = 10\n",
    "\n",
    "# random positive matrix (not necessarily satifsying the Heisenberg principle)\n",
    "q = randn(2modes,2modes)\n",
    "V = q*q'"
   ]
  },
  {
   "cell_type": "code",
   "execution_count": 27,
   "id": "suburban-champion",
   "metadata": {},
   "outputs": [
    {
     "data": {
      "text/plain": [
       "10-element Vector{Float64}:\n",
       "  0.10406911241796196\n",
       "  1.2475116012991638\n",
       "  3.327322363163425\n",
       "  4.533717463451889\n",
       "  6.0732209204389065\n",
       " 12.840310042943745\n",
       " 17.804014277740094\n",
       " 20.44133878389705\n",
       " 38.646750690643316\n",
       " 32.79064255812548"
      ]
     },
     "execution_count": 27,
     "metadata": {},
     "output_type": "execute_result"
    }
   ],
   "source": [
    "D,S = williamson(V)\n",
    "D"
   ]
  },
  {
   "cell_type": "code",
   "execution_count": 28,
   "id": "buried-honduras",
   "metadata": {},
   "outputs": [
    {
     "data": {
      "text/plain": [
       "true"
      ]
     },
     "execution_count": 28,
     "metadata": {},
     "output_type": "execute_result"
    }
   ],
   "source": [
    "issymplectic(S)"
   ]
  },
  {
   "cell_type": "code",
   "execution_count": 29,
   "id": "beneficial-consortium",
   "metadata": {},
   "outputs": [
    {
     "data": {
      "text/plain": [
       "true"
      ]
     },
     "execution_count": 29,
     "metadata": {},
     "output_type": "execute_result"
    }
   ],
   "source": [
    "S'*wdiag(D)*S ≈ V"
   ]
  },
  {
   "cell_type": "code",
   "execution_count": 30,
   "id": "hundred-commitment",
   "metadata": {},
   "outputs": [
    {
     "data": {
      "text/plain": [
       "10-element Vector{Float64}:\n",
       "  0.10406911241794442\n",
       "  1.2475116012991587\n",
       "  3.327322363163421\n",
       "  4.533717463451886\n",
       "  6.073220920438921\n",
       " 12.840310042943791\n",
       " 17.804014277740084\n",
       " 20.44133878389705\n",
       " 32.79064255812531\n",
       " 38.64675069064349"
      ]
     },
     "execution_count": 30,
     "metadata": {},
     "output_type": "execute_result"
    }
   ],
   "source": [
    "D1,S1 = williamsonNew(V)\n",
    "D1"
   ]
  },
  {
   "cell_type": "code",
   "execution_count": 31,
   "id": "composite-outline",
   "metadata": {},
   "outputs": [
    {
     "data": {
      "text/plain": [
       "true"
      ]
     },
     "execution_count": 31,
     "metadata": {},
     "output_type": "execute_result"
    }
   ],
   "source": [
    "sort(D) ≈ D1"
   ]
  },
  {
   "cell_type": "code",
   "execution_count": 32,
   "id": "married-austin",
   "metadata": {},
   "outputs": [
    {
     "data": {
      "text/plain": [
       "true"
      ]
     },
     "execution_count": 32,
     "metadata": {},
     "output_type": "execute_result"
    }
   ],
   "source": [
    "issymplectic(S1)"
   ]
  },
  {
   "cell_type": "code",
   "execution_count": 33,
   "id": "defensive-health",
   "metadata": {},
   "outputs": [
    {
     "data": {
      "text/plain": [
       "true"
      ]
     },
     "execution_count": 33,
     "metadata": {},
     "output_type": "execute_result"
    }
   ],
   "source": [
    "S1'*wdiag(D1)*S1 ≈ V"
   ]
  },
  {
   "cell_type": "code",
   "execution_count": null,
   "id": "sticky-store",
   "metadata": {},
   "outputs": [],
   "source": []
  }
 ],
 "metadata": {
  "kernelspec": {
   "display_name": "Julia 1.6.0",
   "language": "julia",
   "name": "julia-1.6"
  },
  "language_info": {
   "file_extension": ".jl",
   "mimetype": "application/julia",
   "name": "julia",
   "version": "1.6.1"
  }
 },
 "nbformat": 4,
 "nbformat_minor": 5
}
